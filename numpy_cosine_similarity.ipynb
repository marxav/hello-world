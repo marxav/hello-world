{
 "cells": [
  {
   "cell_type": "code",
   "execution_count": 1,
   "metadata": {},
   "outputs": [],
   "source": [
    "import numpy as np\n",
    "from numpy import dot\n",
    "from numpy.linalg import norm"
   ]
  },
  {
   "cell_type": "code",
   "execution_count": 2,
   "metadata": {},
   "outputs": [],
   "source": [
    "data = { \n",
    "    'A': [1, 1, 1, 0, 0, 0], \n",
    "    'B': [1, 1, 1, 0, 0, 0], \n",
    "    'C': [1, 1, 0, 1, 0, 0], \n",
    "    'D': [1, 0, 0, 1, 1, 0], \n",
    "    'E': [0, 0, 0, 1, 1, 1], \n",
    "}"
   ]
  },
  {
   "cell_type": "code",
   "execution_count": 3,
   "metadata": {},
   "outputs": [],
   "source": [
    "A = data['A']\n",
    "B = data['B']\n",
    "C = data['C']\n",
    "D = data['D']\n",
    "E = data['E']"
   ]
  },
  {
   "cell_type": "code",
   "execution_count": 4,
   "metadata": {},
   "outputs": [
    {
     "data": {
      "text/plain": [
       "[1, 1, 1, 0, 0, 0]"
      ]
     },
     "execution_count": 4,
     "metadata": {},
     "output_type": "execute_result"
    }
   ],
   "source": [
    "A"
   ]
  },
  {
   "cell_type": "code",
   "execution_count": 5,
   "metadata": {},
   "outputs": [
    {
     "data": {
      "text/plain": [
       "1.7320508075688772"
      ]
     },
     "execution_count": 5,
     "metadata": {},
     "output_type": "execute_result"
    }
   ],
   "source": [
    "norm(A)"
   ]
  },
  {
   "cell_type": "code",
   "execution_count": 6,
   "metadata": {},
   "outputs": [
    {
     "data": {
      "text/plain": [
       "[1, 1, 1, 0, 0, 0]"
      ]
     },
     "execution_count": 6,
     "metadata": {},
     "output_type": "execute_result"
    }
   ],
   "source": [
    "B"
   ]
  },
  {
   "cell_type": "code",
   "execution_count": 7,
   "metadata": {},
   "outputs": [
    {
     "data": {
      "text/plain": [
       "3"
      ]
     },
     "execution_count": 7,
     "metadata": {},
     "output_type": "execute_result"
    }
   ],
   "source": [
    "dot(A, B)"
   ]
  },
  {
   "cell_type": "code",
   "execution_count": 8,
   "metadata": {},
   "outputs": [
    {
     "name": "stdout",
     "output_type": "stream",
     "text": [
      "cos(A, B)=1.00\n"
     ]
    }
   ],
   "source": [
    "print(\"cos(A, B)=%.2f\" % np.divide(dot(A, B), norm(A) * norm(B)))"
   ]
  },
  {
   "cell_type": "code",
   "execution_count": 9,
   "metadata": {},
   "outputs": [
    {
     "name": "stdout",
     "output_type": "stream",
     "text": [
      "cos(A, B)=1.00\n",
      "cos(A, C)=0.67\n",
      "cos(A, D)=0.33\n",
      "cos(A, E)=0.00\n"
     ]
    }
   ],
   "source": [
    "cos_similarity = dot(A, B)/(norm(A)*norm(B))\n",
    "print(\"cos(A, B)=%.2f\" % cos_similarity)\n",
    "\n",
    "cos_similarity = dot(A, C)/(norm(A)*norm(C))\n",
    "print(\"cos(A, C)=%.2f\" % cos_similarity)\n",
    "\n",
    "cos_similarity = dot(A, D)/(norm(A)*norm(D))\n",
    "print(\"cos(A, D)=%.2f\" % cos_similarity)\n",
    "\n",
    "cos_similarity = dot(A, E)/(norm(A)*norm(E))\n",
    "print(\"cos(A, E)=%.2f\" % cos_similarity)"
   ]
  }
 ],
 "metadata": {
  "kernelspec": {
   "display_name": "Python 3",
   "language": "python",
   "name": "python3"
  },
  "language_info": {
   "codemirror_mode": {
    "name": "ipython",
    "version": 3
   },
   "file_extension": ".py",
   "mimetype": "text/x-python",
   "name": "python",
   "nbconvert_exporter": "python",
   "pygments_lexer": "ipython3",
   "version": "3.6.9"
  }
 },
 "nbformat": 4,
 "nbformat_minor": 4
}
