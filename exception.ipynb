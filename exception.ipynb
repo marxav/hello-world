{
 "cells": [
  {
   "cell_type": "code",
   "execution_count": 1,
   "id": "parallel-tissue",
   "metadata": {},
   "outputs": [
    {
     "name": "stdout",
     "output_type": "stream",
     "text": [
      "exception raised: <class 'ValueError'>, A very specific bad thing happened.\n"
     ]
    }
   ],
   "source": [
    "import sys\n",
    "\n",
    "def do_something(x):\n",
    "    if x==0:\n",
    "        raise ValueError('A very specific bad thing happened.')\n",
    "    else:\n",
    "        return x*x\n",
    "\n",
    "try:\n",
    "    print(do_something(0))\n",
    "except:\n",
    "    e0 = sys.exc_info()[0]\n",
    "    e1 = sys.exc_info()[1]\n",
    "    print(\"exception raised: %s, %s\" % (e0, e1))"
   ]
  }
 ],
 "metadata": {
  "kernelspec": {
   "display_name": "Python 3",
   "language": "python",
   "name": "python3"
  },
  "language_info": {
   "codemirror_mode": {
    "name": "ipython",
    "version": 3
   },
   "file_extension": ".py",
   "mimetype": "text/x-python",
   "name": "python",
   "nbconvert_exporter": "python",
   "pygments_lexer": "ipython3",
   "version": "3.9.1"
  }
 },
 "nbformat": 4,
 "nbformat_minor": 5
}
