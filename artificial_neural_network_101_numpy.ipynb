{
  "nbformat": 4,
  "nbformat_minor": 0,
  "metadata": {
    "kernelspec": {
      "display_name": "Python 3",
      "language": "python",
      "name": "python3"
    },
    "language_info": {
      "codemirror_mode": {
        "name": "ipython",
        "version": 3
      },
      "file_extension": ".py",
      "mimetype": "text/x-python",
      "name": "python",
      "nbconvert_exporter": "python",
      "pygments_lexer": "ipython3",
      "version": "3.7.4"
    },
    "colab": {
      "name": "artificial_neural_network_101_numpy.ipynb",
      "provenance": []
    }
  },
  "cells": [
    {
      "cell_type": "markdown",
      "metadata": {
        "id": "D7Aqml9uLxQs",
        "colab_type": "text"
      },
      "source": [
        "#  Goal: implement an artificial neural network from scratch\n",
        "\n",
        "\n",
        "The trickiest part is the backpropagation algorithm.\n",
        "\n",
        "As a reference, read:\n",
        "* the **Neural Networks and Deep Learning** free online book from Michael Nielsen, in particular, chapter 2: http://neuralnetworksanddeeplearning.com/chap2.html\n",
        "* https://github.com/SkalskiP/ILearnDeepLearning.py/blob/master/01_mysteries_of_neural_networks/03_numpy_neural_net/Numpy%20deep%20neural%20network.ipynb, which served as an awesome guideline for this code"
      ]
    },
    {
      "cell_type": "markdown",
      "metadata": {
        "id": "hxmQSjgpLxQt",
        "colab_type": "text"
      },
      "source": [
        "## Import the tools"
      ]
    },
    {
      "cell_type": "code",
      "metadata": {
        "id": "XN0ThpNiLxQu",
        "colab_type": "code",
        "colab": {}
      },
      "source": [
        "import numpy as np\n",
        "import matplotlib.pyplot as plt"
      ],
      "execution_count": 1,
      "outputs": []
    },
    {
      "cell_type": "markdown",
      "metadata": {
        "id": "TUV473PuLxQ1",
        "colab_type": "text"
      },
      "source": [
        "## Get the data"
      ]
    },
    {
      "cell_type": "code",
      "metadata": {
        "id": "OHPM4IyQLxQ2",
        "colab_type": "code",
        "colab": {}
      },
      "source": [
        "X_train = np.array([0.765,0.838,0.329,0.277,0.45,0.833,0.44,0.634,0.351,0.784,0.589,0.816,0.352,0.591,0.04,0.38,0.816,0.732,0.32,0.597,0.908,0.146,0.691,0.75,0.568,0.866,0.705,0.027,0.607,0.793,0.864,0.057,0.877,0.164,0.729,0.291,0.324,0.745,0.158,0.098,0.113,0.794,0.452,0.765,0.983,0.001,0.474,0.773,0.155,0.875,])\n",
        "Y_train = np.array([6.322,6.254,3.224,2.87,4.177,6.267,4.088,5.737,3.379,6.334,5.381,6.306,3.389,5.4,1.704,3.602,6.306,6.254,3.157,5.446,5.918,2.147,6.088,6.298,5.204,6.147,6.153,1.653,5.527,6.332,6.156,1.766,6.098,2.236,6.244,2.96,3.183,6.287,2.205,1.934,1.996,6.331,4.188,6.322,5.368,1.561,4.383,6.33,2.192,6.108,])\n",
        "X_test = np.array([0.329,0.528,0.323,0.952,0.868,0.931,0.69,0.112,0.574,0.421,0.972,0.715,0.7,0.58,0.69,0.163,0.093,0.695,0.493,0.243,0.928,0.409,0.619,0.011,0.218,0.647,0.499,0.354,0.064,0.571,0.836,0.068,0.451,0.074,0.158,0.571,0.754,0.259,0.035,0.595,0.245,0.929,0.546,0.901,0.822,0.797,0.089,0.924,0.903,0.334,])\n",
        "Y_test = np.array([3.221,4.858,3.176,5.617,6.141,5.769,6.081,1.995,5.259,3.932,5.458,6.193,6.129,5.305,6.081,2.228,1.912,6.106,4.547,2.665,5.791,3.829,5.619,1.598,2.518,5.826,4.603,3.405,1.794,5.23,6.26,1.81,4.18,1.832,2.208,5.234,6.306,2.759,1.684,5.432,2.673,5.781,5.019,5.965,6.295,6.329,1.894,5.816,5.951,3.258,])"
      ],
      "execution_count": 2,
      "outputs": []
    },
    {
      "cell_type": "markdown",
      "metadata": {
        "id": "o1ipek9NLxQ7",
        "colab_type": "text"
      },
      "source": [
        "## Build the artificial neural-network"
      ]
    },
    {
      "cell_type": "code",
      "metadata": {
        "id": "yPqnoR6zLxQ7",
        "colab_type": "code",
        "colab": {}
      },
      "source": [
        "# You may modify it and add intermediary units, or even one or more hidden layers\n",
        "ANN_ARCHITECTURE = [\n",
        "    {\"input_dim\": 1, \"output_dim\": 8, \"activation\": \"relu\"},\n",
        "    #{\"input_dim\": 8, \"output_dim\": 8, \"activation\": \"relu\"},\n",
        "    {\"input_dim\": 8, \"output_dim\": 1, \"activation\": \"none\"},\n",
        "]"
      ],
      "execution_count": 3,
      "outputs": []
    },
    {
      "cell_type": "code",
      "metadata": {
        "id": "PI_anCgqLxQ-",
        "colab_type": "code",
        "colab": {}
      },
      "source": [
        "def init_parameters(ann_architecture):\n",
        "   \n",
        "    # number of layers in our neural network\n",
        "    number_of_layers = len(ann_architecture)\n",
        "    \n",
        "    # parameters storage initiation\n",
        "    params_values = {}\n",
        "    \n",
        "    # iteration over network layers\n",
        "    for idx, layer in enumerate(ann_architecture):\n",
        "        \n",
        "        # we number network layers from 1\n",
        "        layer_idx = idx + 1\n",
        "        \n",
        "        # extracting the number of units in layers\n",
        "        layer_input_size = layer[\"input_dim\"]\n",
        "        layer_output_size = layer[\"output_dim\"]\n",
        "        \n",
        "        # initiating the values of the W matrix\n",
        "        # and vector b for subsequent layers\n",
        "        params_values['W' + str(layer_idx)] = np.random.randn(\n",
        "            layer_output_size, layer_input_size) * 0.1\n",
        "        params_values['b' + str(layer_idx)] = np.random.randn(\n",
        "            layer_output_size, 1) * 0.1\n",
        "        \n",
        "    return params_values"
      ],
      "execution_count": 4,
      "outputs": []
    },
    {
      "cell_type": "code",
      "metadata": {
        "id": "0VHFhGlzLxRB",
        "colab_type": "code",
        "colab": {}
      },
      "source": [
        "# activation functions and their derivative\n",
        "\n",
        "def sigmoid(Z):\n",
        "    return 1/(1 +np.exp(-Z))\n",
        "\n",
        "def sigmoid_prime(dA, Z):\n",
        "    sig = sigmoid(Z)\n",
        "    return dA * sig * (1 - sig)\n",
        "\n",
        "def relu(Z):\n",
        "    return np.maximum(0, Z)\n",
        "\n",
        "def relu_prime(dA, Z):\n",
        "    dZ = np.array(dA, copy = True)\n",
        "    dZ[Z <= 0] = 0;\n",
        "    return dZ"
      ],
      "execution_count": 5,
      "outputs": []
    },
    {
      "cell_type": "markdown",
      "metadata": {
        "id": "BwdvsA6xLxRD",
        "colab_type": "text"
      },
      "source": [
        "$$\\boldsymbol{Z}^{[l]} = \\boldsymbol{W}^{[l]} \\cdot \\boldsymbol{A}^{[l-1]} + \\boldsymbol{b}^{[l]}$$"
      ]
    },
    {
      "cell_type": "markdown",
      "metadata": {
        "id": "LbT4VaUcLxRD",
        "colab_type": "text"
      },
      "source": [
        "$$\\boldsymbol{A}^{[l]} = g^{[l]}(\\boldsymbol{Z}^{[l]})$$"
      ]
    },
    {
      "cell_type": "code",
      "metadata": {
        "id": "MtAwUphpLxRE",
        "colab_type": "code",
        "colab": {}
      },
      "source": [
        "def single_layer_forward_propagation(A_prev, W_curr, b_curr, activation):\n",
        "    \n",
        "    # calculation of the input value for the activation function\n",
        "    Z_curr = np.dot(W_curr, A_prev) + b_curr\n",
        "    \n",
        "    # selection of activation function\n",
        "    if activation is \"none\":\n",
        "        return Z_curr, Z_curr\n",
        "    elif activation is \"relu\":\n",
        "        activation_func = relu\n",
        "    elif activation is \"sigmoid\":\n",
        "        activation_func = sigmoid\n",
        "    else:\n",
        "        raise Exception('Non-supported activation function')\n",
        "        \n",
        "    # return of calculated activation A and the intermediate Z matrix\n",
        "    return activation_func(Z_curr), Z_curr"
      ],
      "execution_count": 6,
      "outputs": []
    },
    {
      "cell_type": "code",
      "metadata": {
        "id": "v-PvYXycLxRG",
        "colab_type": "code",
        "colab": {}
      },
      "source": [
        "def full_forward_propagation(X, params_values, ann_architecture):\n",
        "    \n",
        "    # if needed, transform X = [ 1, 2, 3] into X = [[1, 2, 3]] \n",
        "    if len(X.shape) == 1:\n",
        "        X = np.transpose(X.reshape(X.shape[0], 1))\n",
        "        \n",
        "    # creating a temporary memory to store the information needed for a backward step    \n",
        "    memory = {}\n",
        "    \n",
        "    # X vector is the activation for layer 0 \n",
        "    A_curr = X\n",
        "    \n",
        "    # iteration over network layers\n",
        "    for idx, layer in enumerate(ann_architecture):\n",
        "        # we number network layers from 1\n",
        "        layer_idx = idx + 1\n",
        "        # transfer the activation from the previous iteration\n",
        "        A_prev = A_curr\n",
        "        \n",
        "        # extraction of the activation function for the current layer\n",
        "        activ_function_curr = layer[\"activation\"]\n",
        "        \n",
        "        # extraction of W for the current layer\n",
        "        W_curr = params_values[\"W\" + str(layer_idx)]\n",
        "        # extraction of b for the current layer\n",
        "        b_curr = params_values[\"b\" + str(layer_idx)]\n",
        "        # calculation of activation for the current layer\n",
        "        A_curr, Z_curr = single_layer_forward_propagation(A_prev, W_curr, b_curr, activ_function_curr)\n",
        "        \n",
        "        # saving calculated values in the memory\n",
        "        memory[\"A\" + str(idx)] = A_prev\n",
        "        memory[\"Z\" + str(layer_idx)] = Z_curr\n",
        "       \n",
        "    # return of prediction vector and a dictionary containing intermediate values\n",
        "    return A_curr, memory"
      ],
      "execution_count": 7,
      "outputs": []
    },
    {
      "cell_type": "code",
      "metadata": {
        "id": "9hN6q-SlLxRI",
        "colab_type": "code",
        "colab": {}
      },
      "source": [
        "def get_cost_value(Y_hat, Y):\n",
        "    # return Mean Square Error\n",
        "    return np.square(np.subtract(Y_hat,Y)).mean()"
      ],
      "execution_count": 8,
      "outputs": []
    },
    {
      "cell_type": "markdown",
      "metadata": {
        "id": "UAKf_GX8LxRK",
        "colab_type": "text"
      },
      "source": [
        "![Network architecture](https://miro.medium.com/max/1022/1*fX0kutywUnSTlDVS-yKdZA.png)\n",
        "\n",
        "**Figure**: The four main formula of backpropagation at each layer. For more detail refer to http://neuralnetworksanddeeplearning.com/chap2.html"
      ]
    },
    {
      "cell_type": "code",
      "metadata": {
        "id": "zbxYZEPZLxRK",
        "colab_type": "code",
        "colab": {}
      },
      "source": [
        "def single_layer_backward_propagation(dA_curr, W_curr, b_curr, Z_curr, A_prev, activation):\n",
        "    \n",
        "    # calculation dZ_curr (a.k.a. BP1)\n",
        "    if activation is \"none\":\n",
        "        dZ_curr = dA_curr\n",
        "    else:\n",
        "        if activation is \"relu\":\n",
        "            backward_activation_func = relu_prime\n",
        "        elif activation is \"sigmoid\":\n",
        "            backward_activation_func = sigmoid_prime\n",
        "        else:\n",
        "            raise Exception('Non-supported activation function')\n",
        "        \n",
        "        # calculation of the activation function derivative\n",
        "        dZ_curr = backward_activation_func(dA_curr, Z_curr)\n",
        "\n",
        "    # derivative of the matrix A_prev (a.k.a. BP2)\n",
        "    dA_prev = np.dot(W_curr.T, dZ_curr)\n",
        "\n",
        "    # derivative of the vector b (a.k.a. BP3)\n",
        "    db_curr = np.sum(dZ_curr, axis=1, keepdims=True)\n",
        "    \n",
        "    # derivative of the matrix W (a.k.a. BP4)\n",
        "    dW_curr = np.dot(dZ_curr, A_prev.T)        \n",
        "    \n",
        "    return dA_prev, dW_curr, db_curr"
      ],
      "execution_count": 9,
      "outputs": []
    },
    {
      "cell_type": "code",
      "metadata": {
        "id": "JPxKspC_LxRL",
        "colab_type": "code",
        "colab": {}
      },
      "source": [
        "def full_backward_propagation(Y_hat, Y, memory, params_values, ann_architecture):\n",
        "    \n",
        "    grads_values = {}\n",
        "    \n",
        "    # number of examples\n",
        "    m = Y.shape[1]\n",
        "    \n",
        "    # a hack ensuring the same shape of the prediction vector and labels vector\n",
        "    Y = Y.reshape(Y_hat.shape)\n",
        "    \n",
        "    # initiation of gradient descent algorithm\n",
        "    dA_prev = Y_hat - Y\n",
        "    \n",
        "    for layer_idx_prev, layer in reversed(list(enumerate(ann_architecture))):\n",
        "        \n",
        "        # we number network layers from 1\n",
        "        layer_idx_curr = layer_idx_prev + 1\n",
        "        \n",
        "        # extraction of the activation function for the current layer\n",
        "        activation_function_curr = layer[\"activation\"]    \n",
        "        \n",
        "        dA_curr = dA_prev\n",
        "        \n",
        "        A_prev = memory[\"A\" + str(layer_idx_prev)]\n",
        "        Z_curr = memory[\"Z\" + str(layer_idx_curr)]\n",
        "        \n",
        "        W_curr = params_values[\"W\" + str(layer_idx_curr)]\n",
        "        b_curr = params_values[\"b\" + str(layer_idx_curr)]\n",
        "        \n",
        "        dA_prev, dW_curr, db_curr = single_layer_backward_propagation(\n",
        "            dA_curr, W_curr, b_curr, Z_curr, A_prev, activation_function_curr)\n",
        "        \n",
        "        grads_values[\"dW\" + str(layer_idx_curr)] = dW_curr\n",
        "        grads_values[\"db\" + str(layer_idx_curr)] = db_curr\n",
        "    \n",
        "    return grads_values"
      ],
      "execution_count": 10,
      "outputs": []
    },
    {
      "cell_type": "markdown",
      "metadata": {
        "id": "HEqUf219LxRN",
        "colab_type": "text"
      },
      "source": [
        "For each $l = L, L-1, \\ldots, 2$:\n",
        "* **update** the weights according to the rule $w^l \\rightarrow w^l-\\frac{\\eta}{m} \\sum_x \\delta^{x,l} (a^{x,l-1})^T$\n",
        "\n",
        "* **update** the biases according to the rule $b^l \\rightarrow b^l-\\frac{\\eta}{m} \\sum_x \\delta^{x,l}$"
      ]
    },
    {
      "cell_type": "code",
      "metadata": {
        "id": "5YC3CpsYLxRN",
        "colab_type": "code",
        "colab": {}
      },
      "source": [
        "def update(params_values, grads_values, ann_architecture, learning_rate, m):\n",
        "\n",
        "    # iteration over network layers\n",
        "    for layer_idx, layer in enumerate(ann_architecture, 1):\n",
        "        params_values[\"W\" + str(layer_idx)] -= learning_rate * grads_values[\"dW\" + str(layer_idx)] / m    \n",
        "        params_values[\"b\" + str(layer_idx)] -= learning_rate * grads_values[\"db\" + str(layer_idx)] / m\n",
        "\n",
        "    return params_values;"
      ],
      "execution_count": 11,
      "outputs": []
    },
    {
      "cell_type": "code",
      "metadata": {
        "id": "ta7ngO_aLxRO",
        "colab_type": "code",
        "colab": {}
      },
      "source": [
        "def fit(X, Y, ann_architecture, params_values, learning_rate, batch_size):\n",
        "    \n",
        "    # if needed, transform X = [ 1, 2, 3] into X = [[1, 2, 3]] \n",
        "    if len(X.shape) == 1:\n",
        "        X = np.transpose(X.reshape(X.shape[0], 1))\n",
        "    if len(Y.shape) == 1:\n",
        "        Y = np.transpose(Y.reshape(Y.shape[0], 1))\n",
        "    \n",
        "    # performing calculations for subsequent iterations\n",
        "    Y_hat, memory = full_forward_propagation(X, params_values, ann_architecture)\n",
        "        \n",
        "    # calculating metrics and saving them in history\n",
        "    cost = get_cost_value(Y_hat, Y)\n",
        "       \n",
        "    # step backward - calculating gradient\n",
        "    grads_values = full_backward_propagation(Y_hat, Y, memory, params_values, ann_architecture)\n",
        "    \n",
        "    # updating model state\n",
        "    if X.shape[1] != batch_size: \n",
        "        raise Exception('X contains ', m, 'elements, (batch of ', batch_size, ' expected')\n",
        "        \n",
        "    params_values = update(params_values, grads_values, ann_architecture, learning_rate, batch_size)\n",
        "        \n",
        "    return params_values, cost"
      ],
      "execution_count": 12,
      "outputs": []
    },
    {
      "cell_type": "markdown",
      "metadata": {
        "id": "ILY_c98yLxRQ",
        "colab_type": "text"
      },
      "source": [
        "## Train the artificial neural-network model"
      ]
    },
    {
      "cell_type": "code",
      "metadata": {
        "id": "JMfqFNoZLxRQ",
        "colab_type": "code",
        "colab": {}
      },
      "source": [
        "# Object for storing training results (similar to Tensorflow object)\n",
        "history = {\n",
        "    'train_loss': [],\n",
        "    'valid_loss': []\n",
        "}"
      ],
      "execution_count": 13,
      "outputs": []
    },
    {
      "cell_type": "code",
      "metadata": {
        "id": "V6iMjHMLLxRS",
        "colab_type": "code",
        "colab": {
          "base_uri": "https://localhost:8080/",
          "height": 102
        },
        "outputId": "8238cd72-f383-45ea-a039-50b3ebfe28f9"
      },
      "source": [
        "params_values = init_parameters(ANN_ARCHITECTURE)\n",
        "\n",
        "# training loop\n",
        "# implementation of the stochastic gradient descent\n",
        "EPOCHS = 5000\n",
        "for epoch in range(EPOCHS):\n",
        "    \n",
        "    batch_size = 1\n",
        "    \n",
        "    for i in range(int(X_train.shape[0]/batch_size)):\n",
        "        si = i * batch_size\n",
        "        sj = (i + 1) * batch_size\n",
        "\n",
        "        params_values, train_loss = fit(\n",
        "            np.transpose(X_train[si:sj]), \n",
        "            np.transpose(Y_train[si:sj]),\n",
        "            ANN_ARCHITECTURE, \n",
        "            params_values, \n",
        "            0.01, \n",
        "            batch_size) \n",
        "    \n",
        "    Ŷ_train, _ = full_forward_propagation(X_train, params_values, ANN_ARCHITECTURE)\n",
        "    train_loss = get_cost_value(Ŷ_train, Y_train).mean()\n",
        "    \n",
        "    Ŷ_test, _ = full_forward_propagation(X_test, params_values, ANN_ARCHITECTURE)\n",
        "    valid_loss = get_cost_value(Ŷ_test, Y_test).mean()\n",
        "    \n",
        "    history['train_loss'].append(train_loss)\n",
        "    history['valid_loss'].append(valid_loss)\n",
        "\n",
        "    \n",
        "    if epoch % 1000 == 0:\n",
        "        print('Epoch:%d, train_loss:%.2f, valid_loss:%.2f' % (epoch, train_loss, valid_loss))\n",
        "        "
      ],
      "execution_count": 14,
      "outputs": [
        {
          "output_type": "stream",
          "text": [
            "Epoch:0, train_loss:6.87, valid_loss:5.78\n",
            "Epoch:1000, train_loss:0.03, valid_loss:0.04\n",
            "Epoch:2000, train_loss:0.01, valid_loss:0.01\n",
            "Epoch:3000, train_loss:0.01, valid_loss:0.01\n",
            "Epoch:4000, train_loss:0.01, valid_loss:0.01\n"
          ],
          "name": "stdout"
        }
      ]
    },
    {
      "cell_type": "markdown",
      "metadata": {
        "id": "TMyc1WG1LxRT",
        "colab_type": "text"
      },
      "source": [
        "## Evaluate the model"
      ]
    },
    {
      "cell_type": "code",
      "metadata": {
        "id": "o7SnXDqMLxRT",
        "colab_type": "code",
        "colab": {
          "base_uri": "https://localhost:8080/",
          "height": 265
        },
        "outputId": "a8629f25-a901-47e9-90c1-c3a8e19300a8"
      },
      "source": [
        "plt.plot(history['train_loss'], label = 'train_loss')\n",
        "plt.plot(history['valid_loss'], label = 'validation_loss')\n",
        "plt.legend()\n",
        "plt.show()"
      ],
      "execution_count": 15,
      "outputs": [
        {
          "output_type": "display_data",
          "data": {
            "image/png": "[encoded data removed]",
            "text/plain": [
              "<Figure size 432x288 with 1 Axes>"
            ]
          },
          "metadata": {
            "tags": [],
            "needs_background": "light"
          }
        }
      ]
    },
    {
      "cell_type": "markdown",
      "metadata": {
        "id": "0Pq5PcC3LxRV",
        "colab_type": "text"
      },
      "source": [
        "## Predict new output data¶"
      ]
    },
    {
      "cell_type": "code",
      "metadata": {
        "id": "PYmeGvyhLxRW",
        "colab_type": "code",
        "colab": {
          "base_uri": "https://localhost:8080/",
          "height": 51
        },
        "outputId": "5747b7ec-d937-459b-b094-5a0378b89b50"
      },
      "source": [
        "X_new = np.array([0., 0.2, 0.4, 0.6, 0.8, 1.0])\n",
        "Ŷ_new, _ = full_forward_propagation(X_new, params_values, ANN_ARCHITECTURE)\n",
        "Ŷ_new"
      ],
      "execution_count": 16,
      "outputs": [
        {
          "output_type": "execute_result",
          "data": {
            "text/plain": [
              "array([[1.53066089, 2.41613355, 3.77413399, 5.40036579, 6.2116853 ,\n",
              "        5.77157934]])"
            ]
          },
          "metadata": {
            "tags": []
          },
          "execution_count": 16
        }
      ]
    },
    {
      "cell_type": "code",
      "metadata": {
        "id": "1GS0RG8bLxRX",
        "colab_type": "code",
        "colab": {
          "base_uri": "https://localhost:8080/",
          "height": 295
        },
        "outputId": "9de5f110-35ab-44c2-d6f5-c8460b5feebc"
      },
      "source": [
        "# Display training data and predicted data graphically\n",
        "plt.title('Training data (green color) + Predicted data (red color)')\n",
        "\n",
        "# training data in green color\n",
        "plt.scatter(X_train, Y_train, color='green',  alpha=0.5)\n",
        "\n",
        "# training data in green color\n",
        "#plt.scatter(X_test, Ŷ_test, color='blue',  alpha=0.5)\n",
        "\n",
        "# predicted data in blue color\n",
        "plt.scatter(X_new, Ŷ_new, color='red',  alpha=0.5)\n",
        "\n",
        "plt.xlabel('x')\n",
        "plt.ylabel('y')\n",
        "plt.show()"
      ],
      "execution_count": 17,
      "outputs": [
        {
          "output_type": "display_data",
          "data": {
            "image/png": "[encoded data removed]",
            "text/plain": [
              "<Figure size 432x288 with 1 Axes>"
            ]
          },
          "metadata": {
            "tags": [],
            "needs_background": "light"
          }
        }
      ]
    }
  ]
}